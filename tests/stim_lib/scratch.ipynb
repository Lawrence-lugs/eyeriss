{
 "cells": [
  {
   "cell_type": "code",
   "execution_count": 1,
   "metadata": {},
   "outputs": [],
   "source": [
    "# Open onnx from model zoo\n",
    "# https://netron.app/?url=https://github.com/onnx/models/blob/main/validated/vision/classification/mobilenet/model/mobilenetv2-12-int8.onnx\n",
    "# From Qualcomm's quantized MBV2 model\n",
    "\n",
    "import onnx\n",
    "from onnx import numpy_helper as nphelp \n",
    "\n",
    "def get_initializer_by_name(onnx_model,name):\n",
    "    for init in onnx_model.graph.initializer:\n",
    "        if init.name == name:\n",
    "            return init\n",
    "    raise LookupError(f'Could not find initializer with name {name}')\n",
    "\n",
    "model = onnx.load('mobilenetv2-12-int8.onnx')"
   ]
  },
  {
   "cell_type": "code",
   "execution_count": 3,
   "metadata": {},
   "outputs": [
    {
     "data": {
      "text/plain": [
       "(32, 3, 3, 3)"
      ]
     },
     "execution_count": 3,
     "metadata": {},
     "output_type": "execute_result"
    }
   ],
   "source": [
    "node = model.graph.node[1].input[2]\n",
    "test_weights = nphelp.to_array(get_initializer_by_name(model,\"475_quantized\"))\n",
    "test_weights.shape"
   ]
  },
  {
   "cell_type": "code",
   "execution_count": null,
   "metadata": {},
   "outputs": [],
   "source": [
    "\n",
    "\n",
    "    "
   ]
  }
 ],
 "metadata": {
  "kernelspec": {
   "display_name": "ic_dec",
   "language": "python",
   "name": "python3"
  },
  "language_info": {
   "codemirror_mode": {
    "name": "ipython",
    "version": 3
   },
   "file_extension": ".py",
   "mimetype": "text/x-python",
   "name": "python",
   "nbconvert_exporter": "python",
   "pygments_lexer": "ipython3",
   "version": "3.12.2"
  }
 },
 "nbformat": 4,
 "nbformat_minor": 2
}
