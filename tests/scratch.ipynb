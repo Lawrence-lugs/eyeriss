{
 "cells": [
  {
   "cell_type": "code",
   "execution_count": 1,
   "metadata": {},
   "outputs": [],
   "source": [
    "import numpy as np\n",
    "from scipy.signal import convolve2d\n",
    "\n",
    "actBits = 8\n",
    "weightBits = 8\n",
    "outBits = 8\n",
    "nActs = 10\n",
    "nWeights = 3\n",
    "\n",
    "np.random.seed(0)\n",
    "a = np.random.randint(-2**(actBits-1),2**(actBits-1)-1,size=(nActs,nActs))\n",
    "w = np.random.randint(-2**(weightBits-1),2**(weightBits-1)-1,size=(nWeights,nWeights))\n",
    "o = convolve2d(a,w[::-1].T[::-1].T,mode='valid')"
   ]
  },
  {
   "cell_type": "code",
   "execution_count": null,
   "metadata": {},
   "outputs": [],
   "source": []
  },
  {
   "cell_type": "code",
   "execution_count": 8,
   "metadata": {},
   "outputs": [
    {
     "data": {
      "text/plain": [
       "256"
      ]
     },
     "execution_count": 8,
     "metadata": {},
     "output_type": "execute_result"
    }
   ],
   "source": []
  },
  {
   "cell_type": "code",
   "execution_count": 2,
   "metadata": {},
   "outputs": [],
   "source": [
    "import numpy as np\n",
    "from scipy.signal import convolve2d\n",
    "\n",
    "actBits = 3\n",
    "weightBits = 3\n",
    "nActs = 10\n",
    "nWeights = 3\n",
    "\n",
    "act_max_value = 2**(actBits-1) - 1\n",
    "weight_max_value = 2**(weightBits-1) - 1\n",
    "a = np.full((nActs, nActs), act_max_value)\n",
    "w = np.full((nWeights, nWeights), weight_max_value)\n",
    "o = convolve2d(a,w[::-1].T[::-1].T,mode='valid')"
   ]
  },
  {
   "cell_type": "markdown",
   "metadata": {},
   "source": [
    "Simulation of Quantization per https://github.com/google/gemmlowp/blob/master/doc/quantization.md"
   ]
  },
  {
   "cell_type": "code",
   "execution_count": 15,
   "metadata": {},
   "outputs": [
    {
     "data": {
      "text/plain": [
       "(array([[ 2.6451e-03,  5.1948e-01, -5.8450e-01,  5.0946e-01, -1.9570e+00,\n",
       "          2.8995e+00, -8.8285e-01, -4.6695e-01],\n",
       "        [ 3.7425e-01,  2.1721e-01, -4.6751e-03,  2.3849e-01, -3.7634e-01,\n",
       "         -1.3023e+00,  1.5431e+00, -9.4442e-01],\n",
       "        [-2.0959e+00, -4.3060e-02,  8.1315e-01, -5.7737e-01,  1.9548e+00,\n",
       "         -5.1592e-01,  5.0454e-01, -5.4901e-01],\n",
       "        [ 9.2222e-01,  4.6215e-01, -8.0798e-01,  1.0547e+00,  1.2132e+00,\n",
       "         -1.7581e+00,  5.8118e-01,  4.0273e-01],\n",
       "        [-4.7716e-01,  1.2535e+00, -1.0024e+00, -9.0167e-01,  1.3862e+00,\n",
       "         -3.0142e-03, -2.6634e+00, -1.8885e-01],\n",
       "        [-1.4443e+00,  6.9966e-01,  1.4050e+00, -2.3582e+00, -1.3324e+00,\n",
       "          7.5884e-01, -5.0417e-01, -7.2672e-01],\n",
       "        [ 1.1092e+00, -1.1639e+00,  1.4825e+00,  8.0989e-01, -1.4672e+00,\n",
       "          1.0390e-01, -2.3018e-01,  1.4960e+00],\n",
       "        [ 5.7878e-01, -1.7654e-02, -1.1084e+00,  7.3995e-01,  4.1097e-01,\n",
       "         -1.3324e-01,  3.6392e-01, -6.2412e-01]]),\n",
       " array([[ 2.6451e-03,  5.1949e-01, -5.8451e-01,  5.0947e-01, -1.9570e+00,\n",
       "          2.8995e+00, -8.8286e-01, -4.6696e-01],\n",
       "        [ 3.7426e-01,  2.1721e-01, -4.6751e-03,  2.3849e-01, -3.7635e-01,\n",
       "         -1.3023e+00,  1.5431e+00, -9.4444e-01],\n",
       "        [-2.0959e+00, -4.3060e-02,  8.1316e-01, -5.7738e-01,  1.9549e+00,\n",
       "         -5.1592e-01,  5.0454e-01, -5.4902e-01],\n",
       "        [ 9.2223e-01,  4.6216e-01, -8.0800e-01,  1.0547e+00,  1.2132e+00,\n",
       "         -1.7582e+00,  5.8119e-01,  4.0274e-01],\n",
       "        [-4.7717e-01,  1.2535e+00, -1.0024e+00, -9.0168e-01,  1.3862e+00,\n",
       "         -3.0142e-03, -2.6634e+00, -1.8885e-01],\n",
       "        [-1.4444e+00,  6.9967e-01,  1.4050e+00, -2.3582e+00, -1.3324e+00,\n",
       "          7.5885e-01, -5.0418e-01, -7.2674e-01],\n",
       "        [ 1.1092e+00, -1.1639e+00,  1.4825e+00,  8.0990e-01, -1.4673e+00,\n",
       "          1.0390e-01, -2.3019e-01,  1.4960e+00],\n",
       "        [ 5.7879e-01, -1.7655e-02, -1.1084e+00,  7.3996e-01,  4.1098e-01,\n",
       "         -1.3324e-01,  3.6392e-01, -6.2413e-01]]))"
      ]
     },
     "execution_count": 15,
     "metadata": {},
     "output_type": "execute_result"
    }
   ],
   "source": [
    "# Experiments on low-precision convolution\n",
    "\n",
    "from quant import *\n",
    "\n",
    "actBits = 8\n",
    "weightBits = 8\n",
    "outBits = 8\n",
    "nActs = 10\n",
    "nWeights = 3\n",
    "nOuts = nActs - nWeights + 1\n",
    "\n",
    "a = quantized_tensor((nActs,nActs),actBits) \n",
    "w = quantized_tensor((nWeights,nWeights),weightBits)\n",
    "o = scaling_quantized_convolution(a,w,outBits,internalPrecision=16)\n",
    "\n",
    "o.real_values - convolve_fake_quantized(a,w)\n",
    "# np.round(o.real_values,3) - np.round(convolve_reals(a,w),3)\n",
    "# np.allclose(o.real_values,convolve_reals(a,w),rtol=0.001)\n",
    "# Limit numpy print precision\n",
    "np.set_printoptions(precision=4)\n",
    "o.real_values, convolve_fake_quantized(a,w)\n"
   ]
  },
  {
   "cell_type": "code",
   "execution_count": null,
   "metadata": {},
   "outputs": [],
   "source": [
    "# Experiments on the fixed point scaling\n",
    "out_scale = 2 / (2**outBits - 1)\n",
    "m = a.scale * w.scale / out_scale\n",
    "m0, shift = convert_scale_to_shift_and_m0(a.scale * w.scale / out_scale)\n",
    "print(m,m0 * 2**shift)\n",
    "print(f'fixed point m0: {convert_to_fixed_point(m0,16)}')\n",
    "print(shift)\n",
    "print(m0)"
   ]
  }
 ],
 "metadata": {
  "kernelspec": {
   "display_name": "ic_dec",
   "language": "python",
   "name": "python3"
  },
  "language_info": {
   "codemirror_mode": {
    "name": "ipython",
    "version": 3
   },
   "file_extension": ".py",
   "mimetype": "text/x-python",
   "name": "python",
   "nbconvert_exporter": "python",
   "pygments_lexer": "ipython3",
   "version": "3.12.2"
  }
 },
 "nbformat": 4,
 "nbformat_minor": 2
}
