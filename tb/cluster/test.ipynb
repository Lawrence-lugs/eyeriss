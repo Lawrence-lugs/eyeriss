{
 "cells": [
  {
   "cell_type": "markdown",
   "metadata": {},
   "source": [
    "### Generate stimulus:"
   ]
  },
  {
   "cell_type": "code",
   "execution_count": 107,
   "metadata": {},
   "outputs": [
    {
     "name": "stdout",
     "output_type": "stream",
     "text": [
      "PE cluster must be 3 PEs wide and 3 PEs high \n"
     ]
    }
   ],
   "source": [
    "import numpy as np\n",
    "from scipy.signal import convolve2d\n",
    "\n",
    "actBits = 3\n",
    "weightBits = 3\n",
    "\n",
    "nActsX = 5\n",
    "nActsY = 5\n",
    "nWeights = 3\n",
    "nOutsX = nActsX - nWeights + 1\n",
    "\n",
    "a = np.random.randint(-2**(actBits-1),2**(actBits-1)-1,size=(nActsX,nActsY))\n",
    "w = np.random.randint(-2**(weightBits-1),2**(weightBits-1)-1,size=(nWeights,nWeights))\n",
    "o = convolve2d(a,w[::-1].T[::-1].T,mode='valid')\n",
    "\n",
    "print(f'PE cluster must be {nOutsX} PEs wide and {nWeights} PEs high ')"
   ]
  },
  {
   "cell_type": "code",
   "execution_count": 108,
   "metadata": {},
   "outputs": [
    {
     "data": {
      "text/plain": [
       "array([[-4,  2,  0, -1,  2],\n",
       "       [-2, -1,  1,  2,  1],\n",
       "       [-4,  2,  1, -1, -1],\n",
       "       [-3,  2,  2, -1,  2],\n",
       "       [ 1,  2, -3, -3, -3]])"
      ]
     },
     "execution_count": 108,
     "metadata": {},
     "output_type": "execute_result"
    }
   ],
   "source": [
    "a"
   ]
  },
  {
   "cell_type": "code",
   "execution_count": 109,
   "metadata": {},
   "outputs": [
    {
     "data": {
      "text/plain": [
       "array([[ 1, -4,  0],\n",
       "       [-4, -1,  0],\n",
       "       [ 0, -2, -3]])"
      ]
     },
     "execution_count": 109,
     "metadata": {},
     "output_type": "execute_result"
    }
   ],
   "source": [
    "w"
   ]
  },
  {
   "cell_type": "code",
   "execution_count": 110,
   "metadata": {},
   "outputs": [
    {
     "data": {
      "text/plain": [
       "array([[-10,   6,   3],\n",
       "       [  6, -15, -14],\n",
       "       [  3,   3,  13]])"
      ]
     },
     "execution_count": 110,
     "metadata": {},
     "output_type": "execute_result"
    }
   ],
   "source": [
    "o"
   ]
  },
  {
   "cell_type": "markdown",
   "metadata": {},
   "source": [
    "### Prepare scan chains for multicast ID"
   ]
  },
  {
   "cell_type": "code",
   "execution_count": 111,
   "metadata": {},
   "outputs": [
    {
     "data": {
      "text/plain": [
       "array([[0., 1., 2.],\n",
       "       [1., 2., 3.],\n",
       "       [2., 3., 4.],\n",
       "       [0., 0., 0.]])"
      ]
     },
     "execution_count": 111,
     "metadata": {},
     "output_type": "execute_result"
    }
   ],
   "source": [
    "ids_acts = np.zeros((nOutsX+1,nWeights))\n",
    "for x,idx in enumerate(ids_acts):\n",
    "    for y,id in enumerate(idx):\n",
    "        ids_acts[x][y] = x + y\n",
    "ids_acts[-1] = [0,0,0] # Only zeros for the Y-bus for now (you only need it for multichannel convolutions)\n",
    "ids_acts"
   ]
  },
  {
   "cell_type": "code",
   "execution_count": 112,
   "metadata": {},
   "outputs": [
    {
     "data": {
      "text/plain": [
       "array([[0., 0., 0.],\n",
       "       [1., 1., 1.],\n",
       "       [2., 2., 2.],\n",
       "       [0., 0., 0.]])"
      ]
     },
     "execution_count": 112,
     "metadata": {},
     "output_type": "execute_result"
    }
   ],
   "source": [
    "ids_weights = np.zeros((nOutsX+1,nWeights))\n",
    "for x,idx in enumerate(ids_weights):\n",
    "    for y,id in enumerate(idx):\n",
    "        ids_weights[x][y] = x\n",
    "ids_weights[-1] = [0,0,0] # Only zeros for the Y-bus for now (you only need it for multichannel convolutions)\n",
    "ids_weights"
   ]
  },
  {
   "cell_type": "code",
   "execution_count": 113,
   "metadata": {},
   "outputs": [],
   "source": [
    "tag_order_acts = []\n",
    "for i in range(nActsX):\n",
    "    tag_order_acts.append([0,i])\n",
    "tag_order_acts = np.array(tag_order_acts)\n",
    "\n",
    "tag_order_weights = []\n",
    "for i in range(nWeights):\n",
    "    tag_order_weights.append([0,i])\n",
    "tag_order_weights = np.array(tag_order_weights)"
   ]
  },
  {
   "cell_type": "markdown",
   "metadata": {},
   "source": [
    "### Save stimulus:"
   ]
  },
  {
   "cell_type": "code",
   "execution_count": 114,
   "metadata": {},
   "outputs": [],
   "source": [
    "path = '/home/lquizon/lawrence-workspace/eyeriss/tb/cluster'\n",
    "np.savetxt(path + '/a.txt',a,'%i')\n",
    "np.savetxt(path + '/w.txt',w,'%i')\n",
    "np.savetxt(path + '/o.txt',o,'%i')\n",
    "np.savetxt(path + '/ids_acts.txt',ids_acts,'%i')\n",
    "np.savetxt(path + '/ids_weights.txt',ids_weights,'%i')\n",
    "np.savetxt(path + '/tag_order_acts.txt',tag_order_acts,'%i')\n",
    "np.savetxt(path + '/tag_order_weights.txt',tag_order_weights,'%i')"
   ]
  },
  {
   "cell_type": "markdown",
   "metadata": {},
   "source": [
    "### Have a look at existing stimulus:"
   ]
  },
  {
   "cell_type": "code",
   "execution_count": 115,
   "metadata": {},
   "outputs": [],
   "source": [
    "import numpy as np\n",
    "path = '.'\n",
    "a = np.loadtxt(path + '/a.txt')\n",
    "w = np.loadtxt(path + '/w.txt')\n",
    "o= np.loadtxt(path+'/o.txt')  "
   ]
  },
  {
   "cell_type": "markdown",
   "metadata": {},
   "source": [
    "### Row-stationary Forensics"
   ]
  },
  {
   "cell_type": "code",
   "execution_count": 116,
   "metadata": {},
   "outputs": [
    {
     "data": {
      "text/plain": [
       "array([[[-12.,   2.,   4.],\n",
       "        [  9.,   3.,  -6.],\n",
       "        [ -7.,   1.,   5.]],\n",
       "\n",
       "       [[  2.,  -5.,  -7.],\n",
       "        [ 14.,  -9.,  -3.],\n",
       "        [-10.,  -1.,  -4.]],\n",
       "\n",
       "       [[-12.,  -2.,   5.],\n",
       "        [ 10., -10.,  -7.],\n",
       "        [  5.,  15.,  15.]]])"
      ]
     },
     "execution_count": 116,
     "metadata": {},
     "output_type": "execute_result"
    }
   ],
   "source": [
    "osize = nActsX-nWeights+1\n",
    "sequence_array = [[\n",
    "    (0, 0), # 0,0\n",
    "    (1, 1), # \n",
    "    (2, 2),\n",
    "    ],[\n",
    "    (0, 1),\n",
    "    (1, 2),\n",
    "    (2, 3),\n",
    "    ],[\n",
    "    (0, 2),\n",
    "    (1, 3),\n",
    "    (2, 4)\n",
    "    ]\n",
    "]\n",
    "ps = []\n",
    "psr = []\n",
    "\n",
    "for sequence in sequence_array:\n",
    "    psr = []\n",
    "    for wrow,arow in sequence:\n",
    "        psr.append(np.convolve(a[arow],w[wrow][::-1],'valid'))   \n",
    "    ps.append(psr)\n",
    "\n",
    "np.array(ps)\n",
    "\n",
    "# Expected PE partial sums:"
   ]
  },
  {
   "cell_type": "code",
   "execution_count": 117,
   "metadata": {},
   "outputs": [
    {
     "data": {
      "text/plain": [
       "array([[[-12.,   2.,   4.],\n",
       "        [ -3.,   5.,  -2.],\n",
       "        [-10.,   6.,   3.]],\n",
       "\n",
       "       [[  2.,  -5.,  -7.],\n",
       "        [ 16., -14., -10.],\n",
       "        [  6., -15., -14.]],\n",
       "\n",
       "       [[-12.,  -2.,   5.],\n",
       "        [ -2., -12.,  -2.],\n",
       "        [  3.,   3.,  13.]]])"
      ]
     },
     "execution_count": 117,
     "metadata": {},
     "output_type": "execute_result"
    }
   ],
   "source": [
    "ress = []\n",
    "for psr in ps:\n",
    "    res = psr.copy()\n",
    "    for i in range(1,len(res)):\n",
    "        res[i] += res[i-1]\n",
    "    ress.append(res)\n",
    "np.array(ress)\n",
    "\n",
    "# Expected partial sum outputs in systolic passing:"
   ]
  }
 ],
 "metadata": {
  "kernelspec": {
   "display_name": "ic_dec",
   "language": "python",
   "name": "python3"
  },
  "language_info": {
   "codemirror_mode": {
    "name": "ipython",
    "version": 3
   },
   "file_extension": ".py",
   "mimetype": "text/x-python",
   "name": "python",
   "nbconvert_exporter": "python",
   "pygments_lexer": "ipython3",
   "version": "3.12.2"
  }
 },
 "nbformat": 4,
 "nbformat_minor": 2
}
