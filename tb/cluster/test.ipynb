{
 "cells": [
  {
   "cell_type": "markdown",
   "metadata": {},
   "source": [
    "### Generate stimulus:"
   ]
  },
  {
   "cell_type": "code",
   "execution_count": 1,
   "metadata": {},
   "outputs": [],
   "source": [
    "import numpy as np\n",
    "from scipy.signal import convolve2d\n",
    "\n",
    "actBits = 3\n",
    "weightBits = 3\n",
    "\n",
    "nActsX = 5\n",
    "nActsY = 5\n",
    "nWeights = 3\n",
    "\n",
    "a = np.random.randint(-2**(actBits-1),2**(actBits-1)-1,size=(nActsX,nActsY))\n",
    "w = np.random.randint(-2**(weightBits-1),2**(weightBits-1)-1,size=(nWeights,nWeights))\n",
    "o = convolve2d(a,w[::-1].T[::-1].T,mode='valid')"
   ]
  },
  {
   "cell_type": "code",
   "execution_count": 2,
   "metadata": {},
   "outputs": [
    {
     "data": {
      "text/plain": [
       "array([[-4,  1, -1, -1, -2],\n",
       "       [-4, -4,  2, -3, -2],\n",
       "       [ 2,  2, -3, -3, -1],\n",
       "       [-3,  1, -4,  0, -4],\n",
       "       [ 1,  0,  1,  0, -2]])"
      ]
     },
     "execution_count": 2,
     "metadata": {},
     "output_type": "execute_result"
    }
   ],
   "source": [
    "a"
   ]
  },
  {
   "cell_type": "code",
   "execution_count": 3,
   "metadata": {},
   "outputs": [
    {
     "data": {
      "text/plain": [
       "array([[ 2,  2, -1],\n",
       "       [-2,  0, -3],\n",
       "       [-1, -1, -2]])"
      ]
     },
     "execution_count": 3,
     "metadata": {},
     "output_type": "execute_result"
    }
   ],
   "source": [
    "w"
   ]
  },
  {
   "cell_type": "code",
   "execution_count": 4,
   "metadata": {},
   "outputs": [
    {
     "data": {
      "text/plain": [
       "array([[-1, 25,  8],\n",
       "       [-3,  7, 21],\n",
       "       [26, -2, 12]])"
      ]
     },
     "execution_count": 4,
     "metadata": {},
     "output_type": "execute_result"
    }
   ],
   "source": [
    "o"
   ]
  },
  {
   "cell_type": "markdown",
   "metadata": {},
   "source": [
    "### Prepare scan chain for multicast ID"
   ]
  },
  {
   "cell_type": "code",
   "execution_count": 5,
   "metadata": {},
   "outputs": [
    {
     "data": {
      "text/plain": [
       "array([0, 1, 2, 1, 2, 3, 2, 3, 4])"
      ]
     },
     "execution_count": 5,
     "metadata": {},
     "output_type": "execute_result"
    }
   ],
   "source": [
    "ids = w.copy()\n",
    "for x,idx in enumerate(ids):\n",
    "    for y,id in enumerate(idx):\n",
    "        ids[x][y] = x + y\n",
    "ids.flatten()"
   ]
  },
  {
   "cell_type": "markdown",
   "metadata": {},
   "source": [
    "### Save stimulus:"
   ]
  },
  {
   "cell_type": "code",
   "execution_count": 6,
   "metadata": {},
   "outputs": [],
   "source": [
    "path = '/home/lquizon/lawrence-workspace/eyeriss/tb/cluster'\n",
    "np.savetxt(path + '/a.txt',a,'%i')\n",
    "np.savetxt(path + '/w.txt',w,'%i')\n",
    "np.savetxt(path + '/o.txt',o,'%i')"
   ]
  },
  {
   "cell_type": "markdown",
   "metadata": {},
   "source": [
    "### Have a look at existing stimulus:"
   ]
  },
  {
   "cell_type": "code",
   "execution_count": 7,
   "metadata": {},
   "outputs": [],
   "source": [
    "import numpy as np\n",
    "path = '.'\n",
    "a = np.loadtxt(path + '/a.txt')\n",
    "w = np.loadtxt(path + '/w.txt')\n",
    "o= np.loadtxt(path+'/o.txt')  "
   ]
  },
  {
   "cell_type": "markdown",
   "metadata": {},
   "source": [
    "### Row-stationary Forensics"
   ]
  },
  {
   "cell_type": "code",
   "execution_count": 8,
   "metadata": {},
   "outputs": [
    {
     "data": {
      "text/plain": [
       "array([[[ -5.,   1.,  -2.],\n",
       "        [  2.,  17.,   2.],\n",
       "        [  2.,   7.,   8.]],\n",
       "\n",
       "       [[-18.,  -1.,   0.],\n",
       "        [  5.,   5.,   9.],\n",
       "        [ 10.,   3.,  12.]],\n",
       "\n",
       "       [[ 11.,   1., -11.],\n",
       "        [ 18.,  -2.,  20.],\n",
       "        [ -3.,  -1.,   3.]]])"
      ]
     },
     "execution_count": 8,
     "metadata": {},
     "output_type": "execute_result"
    }
   ],
   "source": [
    "osize = nActsX-nWeights+1\n",
    "sequence_array = [[\n",
    "    (0, 0), # 0,0\n",
    "    (1, 1), # \n",
    "    (2, 2),\n",
    "    ],[\n",
    "    (0, 1),\n",
    "    (1, 2),\n",
    "    (2, 3),\n",
    "    ],[\n",
    "    (0, 2),\n",
    "    (1, 3),\n",
    "    (2, 4)\n",
    "    ]\n",
    "]\n",
    "ps = []\n",
    "psr = []\n",
    "\n",
    "for sequence in sequence_array:\n",
    "    psr = []\n",
    "    for wrow,arow in sequence:\n",
    "        psr.append(np.convolve(a[arow],w[wrow][::-1],'valid'))   \n",
    "    ps.append(psr)\n",
    "\n",
    "np.array(ps)\n",
    "\n",
    "# Expected PE partial sums:"
   ]
  },
  {
   "cell_type": "code",
   "execution_count": 9,
   "metadata": {},
   "outputs": [
    {
     "data": {
      "text/plain": [
       "array([[[ -5.,   1.,  -2.],\n",
       "        [ -3.,  18.,   0.],\n",
       "        [ -1.,  25.,   8.]],\n",
       "\n",
       "       [[-18.,  -1.,   0.],\n",
       "        [-13.,   4.,   9.],\n",
       "        [ -3.,   7.,  21.]],\n",
       "\n",
       "       [[ 11.,   1., -11.],\n",
       "        [ 29.,  -1.,   9.],\n",
       "        [ 26.,  -2.,  12.]]])"
      ]
     },
     "execution_count": 9,
     "metadata": {},
     "output_type": "execute_result"
    }
   ],
   "source": [
    "ress = []\n",
    "for psr in ps:\n",
    "    res = psr.copy()\n",
    "    for i in range(1,len(res)):\n",
    "        res[i] += res[i-1]\n",
    "    ress.append(res)\n",
    "np.array(ress)\n",
    "\n",
    "# Expected partial sum outputs in systolic passing:"
   ]
  }
 ],
 "metadata": {
  "kernelspec": {
   "display_name": "ic_dec",
   "language": "python",
   "name": "python3"
  },
  "language_info": {
   "codemirror_mode": {
    "name": "ipython",
    "version": 3
   },
   "file_extension": ".py",
   "mimetype": "text/x-python",
   "name": "python",
   "nbconvert_exporter": "python",
   "pygments_lexer": "ipython3",
   "version": "3.12.2"
  }
 },
 "nbformat": 4,
 "nbformat_minor": 2
}
