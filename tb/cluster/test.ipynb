{
 "cells": [
  {
   "cell_type": "markdown",
   "metadata": {},
   "source": [
    "### Generate stimulus:"
   ]
  },
  {
   "cell_type": "code",
   "execution_count": 48,
   "metadata": {},
   "outputs": [],
   "source": [
    "import numpy as np\n",
    "from scipy.signal import convolve2d\n",
    "\n",
    "actBits = 3\n",
    "weightBits = 3\n",
    "\n",
    "nActsX = 10\n",
    "nActsY = 10\n",
    "nWeights = 3\n",
    "\n",
    "a = np.random.randint(-2**(actBits-1),2**(actBits-1)-1,size=(nActsX,nActsY))\n",
    "w = np.random.randint(-2**(weightBits-1),2**(weightBits-1)-1,size=(nWeights,nWeights))\n",
    "o = convolve2d(a,w[::-1].T[::-1].T)"
   ]
  },
  {
   "cell_type": "code",
   "execution_count": 49,
   "metadata": {},
   "outputs": [
    {
     "data": {
      "text/plain": [
       "array([[ 1, -2,  1, -2, -1, -4,  1, -4,  2,  1],\n",
       "       [ 0, -4,  1, -4, -1,  0,  0,  2,  1, -2],\n",
       "       [ 0,  1, -4,  0,  1,  0,  0, -1,  2,  1],\n",
       "       [-4, -1, -1, -2, -1, -1,  0, -3, -1, -4],\n",
       "       [-3, -2, -3,  2, -3,  0, -3, -3, -3,  1],\n",
       "       [-4, -1, -1, -1,  1,  2, -2,  1, -1,  1],\n",
       "       [ 0,  1, -4, -3, -1,  2,  1, -1, -4, -3],\n",
       "       [-3, -1,  2, -4,  0,  1,  1,  2,  1,  2],\n",
       "       [ 0,  0, -1,  0,  1, -1, -3, -3, -2, -4],\n",
       "       [ 1, -3,  0, -4, -3, -4, -3, -4, -2,  2]])"
      ]
     },
     "execution_count": 49,
     "metadata": {},
     "output_type": "execute_result"
    }
   ],
   "source": [
    "a"
   ]
  },
  {
   "cell_type": "code",
   "execution_count": 50,
   "metadata": {},
   "outputs": [
    {
     "data": {
      "text/plain": [
       "array([[ 0, -4,  1],\n",
       "       [ 1,  1, -3],\n",
       "       [-4, -2, -2]])"
      ]
     },
     "execution_count": 50,
     "metadata": {},
     "output_type": "execute_result"
    }
   ],
   "source": [
    "w"
   ]
  },
  {
   "cell_type": "code",
   "execution_count": 51,
   "metadata": {},
   "outputs": [
    {
     "data": {
      "text/plain": [
       "array([[ -2,   2,  -2,  10,   2,  18,  10,  22,   0,  10, -10,  -4],\n",
       "       [ -3,  15,   2,  27,   8,  27,  -4,   5, -15, -11,   3,   9],\n",
       "       [  1,   4,   8,   7,  21,  -7,  12, -12,  15,   0, -15,  -6],\n",
       "       [  8,   3,  50,  -1,  18,  17,   7,  15,  -6,  14,  23,  17],\n",
       "       [ 18,  10,  12,  30,  15,  -6,  16,  19,  30,  17,   1,  -8],\n",
       "       [ 13,  28,  27,  -1,  19,   0,   6,  -3,  22, -13,  16,  -3],\n",
       "       [  9,   7,   9,  25,   8,  16,   4,  -2,  17,  28,  18,  13],\n",
       "       [  2,  20,  26,  17,   1,   2, -16,   5,  -3,  -5, -19, -11],\n",
       "       [  9,   1, -16,  28,  11,  -1,  -5,   7,  22,  34,  31,  18],\n",
       "       [ -5,  15,  11,   7,  26,  35,  32,  33,  17,  21, -10, -12],\n",
       "       [ -3,  10,  -3,  13,   6,   0,   3,  14,   9,  -8,  16,   2],\n",
       "       [  1,  -7,  12,  -4,  13,   8,  13,   8,  14,  10,  -8,   0]])"
      ]
     },
     "execution_count": 51,
     "metadata": {},
     "output_type": "execute_result"
    }
   ],
   "source": [
    "o"
   ]
  },
  {
   "cell_type": "markdown",
   "metadata": {},
   "source": [
    "### Prepare scan chain for multicast ID"
   ]
  },
  {
   "cell_type": "code",
   "execution_count": 61,
   "metadata": {},
   "outputs": [
    {
     "data": {
      "text/plain": [
       "array([0., 1., 2., 1., 2., 3., 2., 3., 4.])"
      ]
     },
     "execution_count": 61,
     "metadata": {},
     "output_type": "execute_result"
    }
   ],
   "source": [
    "ids = w\n",
    "for x,idx in enumerate(ids):\n",
    "    for y,id in enumerate(idx):\n",
    "        ids[x][y] = x + y\n",
    "ids.flatten()"
   ]
  },
  {
   "cell_type": "markdown",
   "metadata": {},
   "source": [
    "### Save stimulus:"
   ]
  },
  {
   "cell_type": "code",
   "execution_count": 63,
   "metadata": {},
   "outputs": [],
   "source": [
    "path = '/home/lquizon/lawrence-workspace/eyeriss/tb/cluster'\n",
    "np.savetxt(path + '/a.txt',a,'%i')\n",
    "np.savetxt(path + '/w.txt',w,'%i')\n",
    "np.savetxt(path + '/o.txt',o,'%i')\n",
    "np.savetxt(path + '/ids.txt',ids,'%i')"
   ]
  },
  {
   "cell_type": "markdown",
   "metadata": {},
   "source": [
    "### Have a look at existing stimulus:"
   ]
  },
  {
   "cell_type": "code",
   "execution_count": 55,
   "metadata": {},
   "outputs": [],
   "source": [
    "import numpy as np\n",
    "path = '.'\n",
    "a = np.loadtxt(path + '/a.txt')\n",
    "w = np.loadtxt(path + '/w.txt')\n",
    "o= np.loadtxt(path+'/o.txt')  "
   ]
  }
 ],
 "metadata": {
  "kernelspec": {
   "display_name": "ic_dec",
   "language": "python",
   "name": "python3"
  },
  "language_info": {
   "codemirror_mode": {
    "name": "ipython",
    "version": 3
   },
   "file_extension": ".py",
   "mimetype": "text/x-python",
   "name": "python",
   "nbconvert_exporter": "python",
   "pygments_lexer": "ipython3",
   "version": "3.12.2"
  }
 },
 "nbformat": 4,
 "nbformat_minor": 2
}
