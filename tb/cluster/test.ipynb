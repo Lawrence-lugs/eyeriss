{
 "cells": [
  {
   "cell_type": "markdown",
   "metadata": {},
   "source": [
    "### Generate stimulus:"
   ]
  },
  {
   "cell_type": "code",
   "execution_count": 16,
   "metadata": {},
   "outputs": [],
   "source": [
    "import numpy as np\n",
    "from scipy.signal import convolve2d\n",
    "\n",
    "actBits = 3\n",
    "weightBits = 3\n",
    "\n",
    "nActsX = 5\n",
    "nActsY = 5\n",
    "nWeights = 3\n",
    "\n",
    "a = np.random.randint(-2**(actBits-1),2**(actBits-1)-1,size=(nActsX,nActsY))\n",
    "w = np.random.randint(-2**(weightBits-1),2**(weightBits-1)-1,size=(nWeights,nWeights))\n",
    "o = convolve2d(a,w[::-1].T[::-1].T,mode='valid')"
   ]
  },
  {
   "cell_type": "code",
   "execution_count": 17,
   "metadata": {},
   "outputs": [
    {
     "data": {
      "text/plain": [
       "array([[-3, -2, -2,  1, -3],\n",
       "       [-2, -1, -1, -4, -2],\n",
       "       [ 0, -3, -2, -3, -4],\n",
       "       [ 2, -2,  2,  1, -4],\n",
       "       [-3, -1, -2,  0,  1]])"
      ]
     },
     "execution_count": 17,
     "metadata": {},
     "output_type": "execute_result"
    }
   ],
   "source": [
    "a"
   ]
  },
  {
   "cell_type": "code",
   "execution_count": 18,
   "metadata": {},
   "outputs": [
    {
     "data": {
      "text/plain": [
       "array([[-2, -2, -3],\n",
       "       [ 0,  2, -2],\n",
       "       [-2,  1, -2]])"
      ]
     },
     "execution_count": 18,
     "metadata": {},
     "output_type": "execute_result"
    }
   ],
   "source": [
    "w"
   ]
  },
  {
   "cell_type": "code",
   "execution_count": 19,
   "metadata": {},
   "outputs": [
    {
     "data": {
      "text/plain": [
       "array([[17, 21, 16],\n",
       "       [-3, 22, 23],\n",
       "       [13, 21, 34]])"
      ]
     },
     "execution_count": 19,
     "metadata": {},
     "output_type": "execute_result"
    }
   ],
   "source": [
    "o"
   ]
  },
  {
   "cell_type": "markdown",
   "metadata": {},
   "source": [
    "### Prepare scan chain for multicast ID"
   ]
  },
  {
   "cell_type": "code",
   "execution_count": 20,
   "metadata": {},
   "outputs": [
    {
     "data": {
      "text/plain": [
       "array([0, 1, 2, 1, 2, 3, 2, 3, 4])"
      ]
     },
     "execution_count": 20,
     "metadata": {},
     "output_type": "execute_result"
    }
   ],
   "source": [
    "ids = w.copy()\n",
    "for x,idx in enumerate(ids):\n",
    "    for y,id in enumerate(idx):\n",
    "        ids[x][y] = x + y\n",
    "ids.flatten()"
   ]
  },
  {
   "cell_type": "markdown",
   "metadata": {},
   "source": [
    "### Save stimulus:"
   ]
  },
  {
   "cell_type": "code",
   "execution_count": null,
   "metadata": {},
   "outputs": [],
   "source": [
    "path = '/home/lquizon/lawrence-workspace/eyeriss/tb/cluster'\n",
    "# np.savetxt(path + '/a.txt',a,'%i')\n",
    "# np.savetxt(path + '/w.txt',w,'%i')\n",
    "# np.savetxt(path + '/o.txt',o,'%i')"
   ]
  },
  {
   "cell_type": "markdown",
   "metadata": {},
   "source": [
    "### Have a look at existing stimulus:"
   ]
  },
  {
   "cell_type": "code",
   "execution_count": 22,
   "metadata": {},
   "outputs": [],
   "source": [
    "import numpy as np\n",
    "path = '.'\n",
    "a = np.loadtxt(path + '/a.txt')\n",
    "w = np.loadtxt(path + '/w.txt')\n",
    "o= np.loadtxt(path+'/o.txt')  "
   ]
  },
  {
   "cell_type": "markdown",
   "metadata": {},
   "source": [
    "### Row-stationary Forensics"
   ]
  },
  {
   "cell_type": "code",
   "execution_count": 65,
   "metadata": {},
   "outputs": [
    {
     "data": {
      "text/plain": [
       "array([[[ 16.,   5.,  11.],\n",
       "        [  0.,   6.,  -4.],\n",
       "        [  1.,  10.,   9.]],\n",
       "\n",
       "       [[  9.,  16.,  16.],\n",
       "        [ -2.,   2.,   2.],\n",
       "        [-10.,   4.,   5.]],\n",
       "\n",
       "       [[ 12.,  19.,  22.],\n",
       "        [ -8.,   2.,  10.],\n",
       "        [  9.,   0.,   2.]]])"
      ]
     },
     "execution_count": 65,
     "metadata": {},
     "output_type": "execute_result"
    }
   ],
   "source": [
    "osize = nActsX-nWeights+1\n",
    "sequence_array = [[\n",
    "    (0, 0), # 0,0\n",
    "    (1, 1), # \n",
    "    (2, 2),\n",
    "    ],[\n",
    "    (0, 1),\n",
    "    (1, 2),\n",
    "    (2, 3),\n",
    "    ],[\n",
    "    (0, 2),\n",
    "    (1, 3),\n",
    "    (2, 4)\n",
    "    ]\n",
    "]\n",
    "ps = []\n",
    "psr = []\n",
    "\n",
    "for sequence in sequence_array:\n",
    "    psr = []\n",
    "    for wrow,arow in sequence:\n",
    "        psr.append(np.convolve(a[arow],w[wrow][::-1],'valid'))   \n",
    "    ps.append(psr)\n",
    "\n",
    "np.array(ps)\n",
    "\n",
    "# Expected PE partial sums:"
   ]
  },
  {
   "cell_type": "code",
   "execution_count": 64,
   "metadata": {},
   "outputs": [
    {
     "data": {
      "text/plain": [
       "array([[[16.,  5., 11.],\n",
       "        [16., 11.,  7.],\n",
       "        [17., 21., 16.]],\n",
       "\n",
       "       [[ 9., 16., 16.],\n",
       "        [ 7., 18., 18.],\n",
       "        [-3., 22., 23.]],\n",
       "\n",
       "       [[12., 19., 22.],\n",
       "        [ 4., 21., 32.],\n",
       "        [13., 21., 34.]]])"
      ]
     },
     "execution_count": 64,
     "metadata": {},
     "output_type": "execute_result"
    }
   ],
   "source": [
    "ress = []\n",
    "for psr in ps:\n",
    "    res = psr.copy()\n",
    "    for i in range(1,len(res)):\n",
    "        res[i] += res[i-1]\n",
    "    ress.append(res)\n",
    "np.array(ress)\n",
    "\n",
    "# Expected partial sum outputs in systolic passing:"
   ]
  }
 ],
 "metadata": {
  "kernelspec": {
   "display_name": "ic_dec",
   "language": "python",
   "name": "python3"
  },
  "language_info": {
   "codemirror_mode": {
    "name": "ipython",
    "version": 3
   },
   "file_extension": ".py",
   "mimetype": "text/x-python",
   "name": "python",
   "nbconvert_exporter": "python",
   "pygments_lexer": "ipython3",
   "version": "3.12.2"
  }
 },
 "nbformat": 4,
 "nbformat_minor": 2
}
